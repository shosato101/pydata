{
 "metadata": {
  "language_info": {
   "codemirror_mode": {
    "name": "ipython",
    "version": 3
   },
   "file_extension": ".py",
   "mimetype": "text/x-python",
   "name": "python",
   "nbconvert_exporter": "python",
   "pygments_lexer": "ipython3",
   "version": "3.9.1"
  },
  "orig_nbformat": 2,
  "kernelspec": {
   "name": "python391jvsc74a57bd06574686a0b37bfed0354b0ca088e02e94687f40f1beb28bd39ed17fa1cd3fd1c",
   "display_name": "Python 3.9.1 64-bit ('.venv': pipenv)"
  }
 },
 "nbformat": 4,
 "nbformat_minor": 2,
 "cells": [
  {
   "cell_type": "code",
   "execution_count": 1,
   "metadata": {},
   "outputs": [
    {
     "output_type": "stream",
     "name": "stdout",
     "text": [
      "a: [0 1 2]\nb: [[-3 -2 -1]\n [ 0  1  2]]\nc: [[1 2 3]\n [4 5 6]]\nd: [[0 1]\n [2 3]\n [4 5]]\ne: [-1.         -0.77777778 -0.55555556 -0.33333333 -0.11111111  0.11111111\n  0.33333333  0.55555556  0.77777778  1.        ]\n"
     ]
    }
   ],
   "source": [
    "import numpy as np\n",
    "\n",
    "a = np.arange(3)\n",
    "b = np.arange(-3, 3).reshape((2, 3))\n",
    "c = np.arange(1, 7).reshape((2, 3))\n",
    "d = np.arange(6).reshape((3, 2))\n",
    "e = np.linspace(-1, 1, 10)\n",
    "print(\"a:\", a)\n",
    "print(\"b:\", b)\n",
    "print(\"c:\", c)\n",
    "print(\"d:\", d)\n",
    "print(\"e:\", e)"
   ]
  },
  {
   "cell_type": "code",
   "execution_count": null,
   "metadata": {},
   "outputs": [],
   "source": []
  }
 ]
}